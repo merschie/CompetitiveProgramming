{
 "cells": [
  {
   "cell_type": "code",
   "execution_count": null,
   "id": "88f13377-09c2-453b-939c-34514442a349",
   "metadata": {},
   "outputs": [],
   "source": [
    "import sys\n",
    "import matplotlib.pyplot as plt"
   ]
  },
  {
   "cell_type": "code",
   "execution_count": null,
   "id": "01b306a1-57e4-46ad-a485-a87c52f8ff54",
   "metadata": {},
   "outputs": [],
   "source": [
    "!{sys.executable} -m pip install seaborn\n",
    "!{sys.executable} -m pip install pandas"
   ]
  },
  {
   "cell_type": "code",
   "execution_count": null,
   "id": "26715c52-fbcc-4a91-825d-e6f7fd627001",
   "metadata": {},
   "outputs": [],
   "source": [
    "import seaborn as sns\n",
    "import pandas as pd"
   ]
  },
  {
   "cell_type": "code",
   "execution_count": null,
   "id": "48219cb3-e06a-44ee-8a43-ff5b7e474add",
   "metadata": {},
   "outputs": [],
   "source": [
    "result_path = \"results.csv\"\n",
    "results_df = pd.read_csv(result_path)"
   ]
  },
  {
   "cell_type": "code",
   "execution_count": null,
   "id": "bc479568-8cd0-410c-93ca-b4673b29431f",
   "metadata": {},
   "outputs": [],
   "source": [
    "results_df[(results_df.Method == \"Linear\") & (results_df.n == 32768)]"
   ]
  },
  {
   "cell_type": "code",
   "execution_count": null,
   "id": "ac6bf8de-c6f7-4f64-8612-d99cf7c20551",
   "metadata": {},
   "outputs": [],
   "source": [
    "results_df[(results_df.Method == \"Heap\") & (results_df.n == 32768)]"
   ]
  },
  {
   "cell_type": "code",
   "execution_count": null,
   "id": "4a7d1a79-ab75-4df0-a520-ef0a4ef1b125",
   "metadata": {
    "tags": []
   },
   "outputs": [],
   "source": [
    "sns.set_style('darkgrid')\n",
    "sns.set_context('notebook')\n",
    "for curr_n in pd.unique(results_df['n']):\n",
    "    plt.title(f\"n = {curr_n}\")\n",
    "    curr_df = results_df[results_df.n == curr_n]\n",
    "    ax = sns.scatterplot(x=\"k\", y=\"elapsed\", hue=\"Method\", data=curr_df)\n",
    "    ax.legend(bbox_to_anchor=(1.5, 1.05))\n",
    "    plt.show()"
   ]
  }
 ],
 "metadata": {
  "kernelspec": {
   "display_name": "Python 3 (ipykernel)",
   "language": "python",
   "name": "python3"
  },
  "language_info": {
   "codemirror_mode": {
    "name": "ipython",
    "version": 3
   },
   "file_extension": ".py",
   "mimetype": "text/x-python",
   "name": "python",
   "nbconvert_exporter": "python",
   "pygments_lexer": "ipython3",
   "version": "3.10.6"
  },
  "vscode": {
   "interpreter": {
    "hash": "aee8b7b246df8f9039afb4144a1f6fd8d2ca17a180786b69acc140d282b71a49"
   }
  }
 },
 "nbformat": 4,
 "nbformat_minor": 5
}
